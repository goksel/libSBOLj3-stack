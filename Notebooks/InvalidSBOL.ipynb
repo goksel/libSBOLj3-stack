{
 "cells": [
  {
   "cell_type": "code",
   "execution_count": 10,
   "id": "7b0dbe30-e2d4-4e1a-b869-3dfa684ef81e",
   "metadata": {},
   "outputs": [
    {
     "ename": "EvalException",
     "evalue": "sbol3-10201 - The displayId property, if specified, MUST be composed of only alphanumeric or underscore characters and MUST NOT begin with a digit.,\n\tProperty: setDisplayId.arg0,\n\tEntity URI: https://sbolstandard.org/examples/1,\n\tEntity Type: class org.sbolstandard.core3.entity.SBOLDocument$2,\n\tValue: 1",
     "output_type": "error",
     "traceback": [
      "\u001b[1m\u001b[31m---------------------------------------------------------------------------\u001b[0m",
      "\u001b[1m\u001b[31morg.sbolstandard.core3.util.SBOLGraphException: sbol3-10201 - The displayId property, if specified, MUST be composed of only alphanumeric or underscore characters and MUST NOT begin with a digit.,\u001b[0m",
      "\u001b[1m\u001b[31m\tProperty: setDisplayId.arg0,\u001b[0m",
      "\u001b[1m\u001b[31m\tEntity URI: https://sbolstandard.org/examples/1,\u001b[0m",
      "\u001b[1m\u001b[31m\tEntity Type: class org.sbolstandard.core3.entity.SBOLDocument$2,\u001b[0m",
      "\u001b[1m\u001b[31m\tValue: 1\u001b[0m",
      "\u001b[1m\u001b[31m\tat org.sbolstandard.core3.validation.PropertyValidator.processViolations(PropertyValidator.java:134)\u001b[0m",
      "\u001b[1m\u001b[31m\tat org.sbolstandard.core3.validation.PropertyValidator.validate(PropertyValidator.java:152)\u001b[0m",
      "\u001b[1m\u001b[31m\tat org.sbolstandard.core3.entity.Identified.setDisplayId(Identified.java:91)\u001b[0m",
      "\u001b[1m\u001b[31m\tat org.sbolstandard.core3.entity.Identified.inferDisplayId(Identified.java:650)\u001b[0m",
      "\u001b[1m\u001b[31m\tat org.sbolstandard.core3.entity.Identified.<init>(Identified.java:61)\u001b[0m",
      "\u001b[1m\u001b[31m\tat org.sbolstandard.core3.entity.TopLevel.<init>(TopLevel.java:29)\u001b[0m",
      "\u001b[1m\u001b[31m\tat org.sbolstandard.core3.entity.ControlledTopLevel.<init>(ControlledTopLevel.java:14)\u001b[0m",
      "\u001b[1m\u001b[31m\tat org.sbolstandard.core3.entity.provenance.Plan.<init>(Plan.java:14)\u001b[0m",
      "\u001b[1m\u001b[31m\tat org.sbolstandard.core3.entity.SBOLDocument$2.<init>(SBOLDocument.java:451)\u001b[0m",
      "\u001b[1m\u001b[31m\tat org.sbolstandard.core3.entity.SBOLDocument.createPlan(SBOLDocument.java:451)\u001b[0m",
      "\u001b[1m\u001b[31m\tat org.sbolstandard.core3.entity.SBOLDocument.createPlan(SBOLDocument.java:460)\u001b[0m",
      "\u001b[1m\u001b[31m\tat .(#22:1)\u001b[0m"
     ]
    }
   ],
   "source": [
    "import java.io.IOException;\n",
    "import java.net.URI;\n",
    "import org.sbolstandard.core3.entity.SBOLDocument;\n",
    "import org.sbolstandard.core3.entity.provenance.Plan;\n",
    "import org.sbolstandard.core3.io.SBOLFormat;\n",
    "import org.sbolstandard.core3.io.SBOLIO;\n",
    "import org.sbolstandard.core3.util.SBOLGraphException;\n",
    "\n",
    "String baseUri=\"https://sbolstandard.org/examples/\";\n",
    "SBOLDocument doc=new SBOLDocument(URI.create(baseUri));\n",
    "  \n",
    "//This line will throw an exception\n",
    "Plan plan=doc.createPlan(\"1\");"
   ]
  },
  {
   "cell_type": "code",
   "execution_count": null,
   "id": "2e0fefb1-3849-4aee-aa26-207ce54c709c",
   "metadata": {},
   "outputs": [],
   "source": []
  }
 ],
 "metadata": {
  "kernelspec": {
   "display_name": "Java",
   "language": "java",
   "name": "java"
  },
  "language_info": {
   "codemirror_mode": "java",
   "file_extension": ".jshell",
   "mimetype": "text/x-java-source",
   "name": "Java",
   "pygments_lexer": "java",
   "version": "17.0.5+8-Ubuntu-2ubuntu122.04"
  }
 },
 "nbformat": 4,
 "nbformat_minor": 5
}
