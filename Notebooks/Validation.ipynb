{
 "cells": [
  {
   "cell_type": "code",
   "execution_count": 8,
   "id": "5ea6f992-be6f-448f-92c7-aa94ea3f655c",
   "metadata": {},
   "outputs": [
    {
     "name": "stdout",
     "output_type": "stream",
     "text": [
      "\n",
      "Document validation:\n",
      "sbol3-10503 - The elements property of a Sequence MUST be consistent with its encoding property.,\n",
      "\tProperty: sequences[0].elements,\n",
      "\tEntity URI: https://synbiohub.org/public/igem/BBa_R0040_Sequence1,\n",
      "\tEntity Type: class org.sbolstandard.core3.entity.Sequence\n",
      "--------------------\n"
     ]
    }
   ],
   "source": [
    "import java.io.IOException;\n",
    "import java.net.URI;\n",
    "import org.sbolstandard.core3.entity.*;\n",
    "import org.sbolstandard.core3.io.*;\n",
    "import org.sbolstandard.core3.util.*;\n",
    "import org.sbolstandard.core3.api.*;\n",
    "import org.sbolstandard.core3.vocabulary.*;\n",
    "import org.sbolstandard.core3.validation.*;\n",
    "\n",
    "URI base=URI.create(\"https://synbiohub.org/public/igem/\");\n",
    "SBOLDocument doc=new SBOLDocument(base);\n",
    "\n",
    "//Create an invalid component: Use an aminoacid sequence for a DNA component\n",
    "Component pTetR=SBOLAPI.createDnaComponent(doc, \"BBa_R0040\", \"pTetR\", \"TetR repressible promoter\", Role.Promoter, \"MKL\");\n",
    "\n",
    "//Validate the document\n",
    "List<String> messages=SBOLValidator.getValidator().validate(doc);\n",
    "\n",
    "//Display validation messages\n",
    "System.out.println(\"\\nDocument validation:\");\n",
    "SBOLUtil.printValidationMessages(messages);"
   ]
  },
  {
   "cell_type": "code",
   "execution_count": 9,
   "id": "f04609bc-9877-41f2-ba33-fa864edb1590",
   "metadata": {},
   "outputs": [
    {
     "name": "stdout",
     "output_type": "stream",
     "text": [
      "@base          <https://synbiohub.org/public/igem/> .\n",
      "@prefix :      <https://synbiohub.org/public/igem/> .\n",
      "@prefix CHEBI: <https://identifiers.org/CHEBI:> .\n",
      "@prefix EDAM:  <https://identifiers.org/edam:> .\n",
      "@prefix GO:    <https://identifiers.org/GO:> .\n",
      "@prefix SBO:   <https://identifiers.org/SBO:> .\n",
      "@prefix SO:    <https://identifiers.org/SO:> .\n",
      "@prefix om:    <http://www.ontology-of-units-of-measure.org/resource/om-2/> .\n",
      "@prefix prov:  <http://www.w3.org/ns/prov#> .\n",
      "@prefix sbol:  <http://sbols.org/v3#> .\n",
      "\n",
      ":BBa_R0040  a              sbol:Component ;\n",
      "        sbol:description   \"TetR repressible promoter\" ;\n",
      "        sbol:displayId     \"BBa_R0040\" ;\n",
      "        sbol:hasNamespace  <https://synbiohub.org/public/igem> ;\n",
      "        sbol:hasSequence   :BBa_R0040_Sequence1 ;\n",
      "        sbol:name          \"pTetR\" ;\n",
      "        sbol:role          SO:0000167 ;\n",
      "        sbol:type          SBO:0000251 .\n",
      "\n",
      ":BBa_R0040_Sequence1  a    sbol:Sequence ;\n",
      "        sbol:description   \"BBa_R0040 sequence\" ;\n",
      "        sbol:displayId     \"BBa_R0040_Sequence1\" ;\n",
      "        sbol:elements      \"tccctatcagtgatagagattgacatccctatcagtgatagagatactgagcac\" ;\n",
      "        sbol:encoding      EDAM:format_1207 ;\n",
      "        sbol:hasNamespace  <https://synbiohub.org/public/igem> ;\n",
      "        sbol:name          \"Sequence1\" .\n",
      "\n"
     ]
    }
   ],
   "source": [
    "//Let's correct the error.\n",
    "pTetR.getSequences().get(0).setElements(\"tccctatcagtgatagagattgacatccctatcagtgatagagatactgagcac\");\n",
    "System.out.println(SBOLIO.write(doc, SBOLFormat.TURTLE));"
   ]
  },
  {
   "cell_type": "code",
   "execution_count": 10,
   "id": "9e603c63-7197-46bd-b1a4-12e37e768f47",
   "metadata": {},
   "outputs": [
    {
     "name": "stdout",
     "output_type": "stream",
     "text": [
      "\n",
      "Entity validation:\n",
      "sbol3-10803 - The instanceOf property of a SubComponent MUST NOT refer to the same Component as the one that contains the SubComponent.,\n",
      "\tValue: https://synbiohub.org/public/igem/BBa_R0040,\n",
      "\tProperty: hasFeature[https://synbiohub.org/public/igem/BBa_R0040/SubComponent1].instanceOf,\n",
      "\tEntity URI: https://synbiohub.org/public/igem/BBa_R0040,\n",
      "\tEntity Type: class org.sbolstandard.core3.entity.Component\n",
      "sbol3-10804 - SubComponent objects MUST NOT form circular reference chains via their instanceOf properties and the Component objects that contain them,\n",
      "\tChild Entity URI: https://synbiohub.org/public/igem/BBa_R0040,\n",
      "\tChild Entity Type: class org.sbolstandard.core3.entity.Component,\n",
      "\tProperty: hasFeature[https://synbiohub.org/public/igem/BBa_R0040/SubComponent1].instanceOf[https://synbiohub.org/public/igem/BBa_R0040],\n",
      "\tEntity URI: https://synbiohub.org/public/igem/BBa_R0040,\n",
      "\tEntity Type: class org.sbolstandard.core3.entity.Component\n",
      "--------------------\n"
     ]
    }
   ],
   "source": [
    "//Add the same DNA component as a sub component to itself. New validation messages will be added. \n",
    "SubComponent tetRBindingProteinSubComponent2=SBOLAPI.addSubComponent(pTetR, pTetR);\n",
    "\n",
    "//In addition to checking the validity of a document, any entity can be validated as shown below. \n",
    "List<String> messages=IdentifiedValidator.getValidator().validate(pTetR);\n",
    "System.out.println(\"\\nEntity validation:\");\n",
    "SBOLUtil.printValidationMessages(messages);"
   ]
  },
  {
   "cell_type": "code",
   "execution_count": 11,
   "id": "a05fc7bc-3835-4bbf-90ba-d8872af5e029",
   "metadata": {},
   "outputs": [
    {
     "ename": "EvalException",
     "evalue": "Could not validate the SBOL document:\nsbol3-10803 - The instanceOf property of a SubComponent MUST NOT refer to the same Component as the one that contains the SubComponent.,\n\tValue: https://synbiohub.org/public/igem/BBa_R0040,\n\tProperty: components[0].hasFeature[https://synbiohub.org/public/igem/BBa_R0040/SubComponent1].instanceOf,\n\tEntity URI: https://synbiohub.org/public/igem/BBa_R0040,\n\tEntity Type: class org.sbolstandard.core3.entity.Component\n\nsbol3-10804 - SubComponent objects MUST NOT form circular reference chains via their instanceOf properties and the Component objects that contain them,\n\tChild Entity URI: https://synbiohub.org/public/igem/BBa_R0040,\n\tChild Entity Type: class org.sbolstandard.core3.entity.Component,\n\tProperty: components[0].hasFeature[https://synbiohub.org/public/igem/BBa_R0040/SubComponent1].instanceOf[https://synbiohub.org/public/igem/BBa_R0040],\n\tEntity URI: https://synbiohub.org/public/igem/BBa_R0040,\n\tEntity Type: class org.sbolstandard.core3.entity.Component",
     "output_type": "error",
     "traceback": [
      "\u001b[1m\u001b[31m---------------------------------------------------------------------------\u001b[0m",
      "\u001b[1m\u001b[31morg.sbolstandard.core3.util.SBOLGraphException: Could not validate the SBOL document:\u001b[0m",
      "\u001b[1m\u001b[31msbol3-10803 - The instanceOf property of a SubComponent MUST NOT refer to the same Component as the one that contains the SubComponent.,\u001b[0m",
      "\u001b[1m\u001b[31m\tValue: https://synbiohub.org/public/igem/BBa_R0040,\u001b[0m",
      "\u001b[1m\u001b[31m\tProperty: components[0].hasFeature[https://synbiohub.org/public/igem/BBa_R0040/SubComponent1].instanceOf,\u001b[0m",
      "\u001b[1m\u001b[31m\tEntity URI: https://synbiohub.org/public/igem/BBa_R0040,\u001b[0m",
      "\u001b[1m\u001b[31m\tEntity Type: class org.sbolstandard.core3.entity.Component\u001b[0m",
      "\u001b[1m\u001b[31m\u001b[0m",
      "\u001b[1m\u001b[31msbol3-10804 - SubComponent objects MUST NOT form circular reference chains via their instanceOf properties and the Component objects that contain them,\u001b[0m",
      "\u001b[1m\u001b[31m\tChild Entity URI: https://synbiohub.org/public/igem/BBa_R0040,\u001b[0m",
      "\u001b[1m\u001b[31m\tChild Entity Type: class org.sbolstandard.core3.entity.Component,\u001b[0m",
      "\u001b[1m\u001b[31m\tProperty: components[0].hasFeature[https://synbiohub.org/public/igem/BBa_R0040/SubComponent1].instanceOf[https://synbiohub.org/public/igem/BBa_R0040],\u001b[0m",
      "\u001b[1m\u001b[31m\tEntity URI: https://synbiohub.org/public/igem/BBa_R0040,\u001b[0m",
      "\u001b[1m\u001b[31m\tEntity Type: class org.sbolstandard.core3.entity.Component\u001b[0m",
      "\u001b[1m\u001b[31m\tat org.sbolstandard.core3.validation.SBOLValidator.isValid(SBOLValidator.java:120)\u001b[0m",
      "\u001b[1m\u001b[31m\tat org.sbolstandard.core3.io.SBOLIO.isValid(SBOLIO.java:33)\u001b[0m",
      "\u001b[1m\u001b[31m\tat org.sbolstandard.core3.io.SBOLIO.write(SBOLIO.java:49)\u001b[0m",
      "\u001b[1m\u001b[31m\tat org.sbolstandard.core3.io.SBOLIO.write(SBOLIO.java:25)\u001b[0m",
      "\u001b[1m\u001b[31m\tat .(#44:2)\u001b[0m"
     ]
    }
   ],
   "source": [
    "//The following line will throw an exception with all validation messages.\n",
    "System.out.println(SBOLIO.write(doc, SBOLFormat.TURTLE));"
   ]
  },
  {
   "cell_type": "code",
   "execution_count": null,
   "id": "df19c88e-6a2b-4165-94ce-0cdc2ba9ad8f",
   "metadata": {},
   "outputs": [],
   "source": []
  },
  {
   "cell_type": "code",
   "execution_count": null,
   "id": "a679be19-9c45-44c5-a84f-e4e0355583c3",
   "metadata": {},
   "outputs": [],
   "source": []
  }
 ],
 "metadata": {
  "kernelspec": {
   "display_name": "Java",
   "language": "java",
   "name": "java"
  },
  "language_info": {
   "codemirror_mode": "java",
   "file_extension": ".jshell",
   "mimetype": "text/x-java-source",
   "name": "Java",
   "pygments_lexer": "java",
   "version": "17.0.5+8-Ubuntu-2ubuntu122.04"
  }
 },
 "nbformat": 4,
 "nbformat_minor": 5
}
