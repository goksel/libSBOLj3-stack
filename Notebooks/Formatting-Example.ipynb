{
 "cells": [
  {
   "cell_type": "markdown",
   "id": "19487f37-babe-4ead-827f-a460b81ba269",
   "metadata": {},
   "source": [
    "As an example of mixing markdown with the tutorials I have reproduced the longer tutorial in this file.\n",
    "\n",
    "[Until the dependencies can be fixed I'll still include the %%loadFromPOM magic]"
   ]
  },
  {
   "cell_type": "code",
   "execution_count": 1,
   "id": "e215611b-b07f-46f3-8859-86b0217afb99",
   "metadata": {},
   "outputs": [],
   "source": [
    "%%loadFromPOM\n",
    "<dependency>\n",
    "\t\t\t<groupId>junit</groupId>\n",
    "\t\t\t<artifactId>junit</artifactId>\n",
    "\t\t\t<version>4.13.1</version>\n",
    "\t\t\t<scope>test</scope>\n",
    "\t\t</dependency>\n",
    "\t\t<dependency>\n",
    "\t\t\t<groupId>org.apache.jena</groupId>\n",
    "\t\t\t<artifactId>jena-base</artifactId>\n",
    "\t\t\t<version>4.4.0</version>\n",
    "\t\t</dependency>\n",
    "\t\t<dependency>\n",
    "\t\t\t<groupId>org.apache.jena</groupId>\n",
    "\t\t\t<artifactId>jena-core</artifactId>\n",
    "\t\t\t<version>4.4.0</version>\n",
    "\t\t</dependency>\n",
    "\t\t<!-- https://mvnrepository.com/artifact/org.apache.jena/jena -->\n",
    "\t\t<dependency>\n",
    "\t\t\t<groupId>org.apache.jena</groupId>\n",
    "\t\t\t<artifactId>jena</artifactId>\n",
    "\t\t\t<version>4.4.0</version>\n",
    "\t\t\t<type>pom</type>\n",
    "\t\t</dependency>\n",
    "\t\t<dependency>\n",
    "\t\t\t<groupId>org.apache.jena</groupId>\n",
    "\t\t\t<artifactId>jena-arq</artifactId>\n",
    "\t\t\t<version>4.4.0</version>\n",
    "\t\t</dependency>\n",
    "\t\t<!-- https://mvnrepository.com/artifact/commons-io/commons-io -->\n",
    "\t\t<dependency>\n",
    "\t\t\t<groupId>commons-io</groupId>\n",
    "\t\t\t<artifactId>commons-io</artifactId>\n",
    "\t\t\t<version>2.7</version>\n",
    "\t\t</dependency>\n",
    "\t\t<dependency>\n",
    "\t\t\t<groupId>jakarta.validation</groupId>\n",
    "\t\t\t<artifactId>jakarta.validation-api</artifactId>\n",
    "\t\t\t<version>3.0.1</version>\n",
    "\t\t</dependency>\n",
    "\t\t<dependency>\n",
    "\t\t\t<groupId>org.hibernate.validator</groupId>\n",
    "\t\t\t<artifactId>hibernate-validator</artifactId>\n",
    "\t\t\t<version>7.0.4.Final</version>\n",
    "\t\t</dependency>\n",
    "\t\t<dependency>\n",
    "\t\t\t<groupId>org.glassfish</groupId>\n",
    "\t\t\t<artifactId>jakarta.el</artifactId>\n",
    "\t\t\t<version>4.0.1</version>\n",
    "\t\t</dependency>\n",
    "\t\t<dependency>\n",
    "\t\t\t<groupId>org.hibernate.validator</groupId>\n",
    "\t\t\t<artifactId>hibernate-validator-cdi</artifactId>\n",
    "\t\t\t<version>7.0.4.Final</version>\n",
    "\t\t</dependency>"
   ]
  },
  {
   "cell_type": "markdown",
   "id": "7c1d3d74-18a3-499c-9ad8-18ce97431883",
   "metadata": {},
   "source": [
    "The code below imports the classes required for this tutorial."
   ]
  },
  {
   "cell_type": "code",
   "execution_count": 2,
   "id": "d07e5fed-6ae2-4a4a-8edd-3e50531bac87",
   "metadata": {},
   "outputs": [],
   "source": [
    "import java.io.IOException;\n",
    "import java.net.URI;\n",
    "import java.util.Arrays;\n",
    "import org.sbolstandard.core3.api.*;\n",
    "import org.sbolstandard.core3.entity.*;\n",
    "import org.sbolstandard.core3.io.*;\n",
    "import org.sbolstandard.core3.vocabulary.*;\n",
    "import org.sbolstandard.core3.entity.provenance.*;\n",
    "import org.sbolstandard.core3.util.Configuration.*;\n",
    "import org.sbolstandard.core3.util.*;\n",
    "import org.apache.jena.riot.RDFFormat;\n",
    "import org.sbolstandard.core3.validation.*;"
   ]
  },
  {
   "cell_type": "markdown",
   "id": "f0a2c4bf-1a3e-48a4-a774-b03dd1fae173",
   "metadata": {},
   "source": [
    "Create a new SBOL Document"
   ]
  },
  {
   "cell_type": "code",
   "execution_count": 3,
   "id": "1e94a8fd-0a70-4c52-a973-c93a4feace1b",
   "metadata": {},
   "outputs": [
    {
     "name": "stderr",
     "output_type": "stream",
     "text": [
      "SLF4J: Failed to load class \"org.slf4j.impl.StaticLoggerBinder\".\n",
      "SLF4J: Defaulting to no-operation (NOP) logger implementation\n",
      "SLF4J: See http://www.slf4j.org/codes.html#StaticLoggerBinder for further details.\n"
     ]
    }
   ],
   "source": [
    "URI base=URI.create(\"https://synbiohub.org/public/igem/\");\n",
    "SBOLDocument doc=new SBOLDocument(base);"
   ]
  },
  {
   "cell_type": "markdown",
   "id": "733e45f0-dc2b-4c5e-b818-0a9eb5bfaa96",
   "metadata": {},
   "source": [
    "\n",
    "Slide 26: GFP expression cassette\n",
    "--------------------------------------------------\n",
    "Component\n",
    "\n",
    "identity: iGEM#I13504\n",
    "\n",
    "name: \"iGEM 2016 interlab reporter\"\n",
    "\n",
    "description: \"GFP expression cassette used for 2016 iGEM interlab\"\n",
    "\n",
    "type: SBO:0000251 (DNA)\n",
    "\n",
    "role: SO:0000804 (Engineered Region)"
   ]
  },
  {
   "cell_type": "code",
   "execution_count": 4,
   "id": "d9053742-a9ec-4769-8661-ea404d1cb00e",
   "metadata": {},
   "outputs": [
    {
     "name": "stdout",
     "output_type": "stream",
     "text": [
      "Creating GFP expression cassette\n",
      "Created GFP expression cassette component: https://synbiohub.org/public/igem/i13504\n"
     ]
    }
   ],
   "source": [
    "System.out.println(\"Creating GFP expression cassette\");\n",
    "Component device= SBOLAPI.createDnaComponent(doc, \"i13504\", \"i13504\", \"Screening plasmid intermediate\", ComponentType.DNA.getUrl(), null);\n",
    "System.out.println(String.format(\"Created GFP expression cassette component: %s\", device.getUri()));"
   ]
  },
  {
   "cell_type": "markdown",
   "id": "b76adfc9-1b4e-4bc8-9da1-39ed6e67ec9c",
   "metadata": {},
   "source": [
    "Slide 28: expression cassette parts\n",
    "--------------------------------------------------\n",
    "\n",
    "Add the RBS subcomponent:\n",
    "\n",
    "Create the RBS component"
   ]
  },
  {
   "cell_type": "code",
   "execution_count": 5,
   "id": "d1d5a5a7-2977-4547-9a42-42de96e19a59",
   "metadata": {},
   "outputs": [],
   "source": [
    "Component rbs=SBOLAPI.createDnaComponent(doc, \"B0034\", \"rbs\", \"RBS (Elowitz 1999)\", Role.RBS, \"aaagaggagaaa\");"
   ]
  },
  {
   "cell_type": "markdown",
   "id": "430010d1-341b-4150-a5a9-0136e663d80b",
   "metadata": {},
   "source": [
    "Start assembling the i13504 device's sequence by adding the RBS component."
   ]
  },
  {
   "cell_type": "code",
   "execution_count": 6,
   "id": "47be5742-9ecd-432a-9afb-fcf4423ae492",
   "metadata": {},
   "outputs": [
    {
     "name": "stdout",
     "output_type": "stream",
     "text": [
      "Added the RBS subcomponent: https://synbiohub.org/public/igem/B0034\n"
     ]
    }
   ],
   "source": [
    "SBOLAPI.appendComponent(doc, device,rbs,Orientation.inline);\n",
    "System.out.println(String.format(\"Added the RBS subcomponent: %s\", rbs.getUri()));"
   ]
  },
  {
   "cell_type": "markdown",
   "id": "e315c0de-e491-4728-b4ae-f7a744f6e6df",
   "metadata": {},
   "source": [
    "Add the scar sequence between the RBS and CDS components"
   ]
  },
  {
   "cell_type": "code",
   "execution_count": 7,
   "id": "4dfe5b5c-004a-4153-a579-6f1556c1e5ac",
   "metadata": {},
   "outputs": [
    {
     "name": "stdout",
     "output_type": "stream",
     "text": [
      "Added the scar sequence between the RBS and the CDS components: https://synbiohub.org/public/igem/i13504/SequenceFeature1\n"
     ]
    }
   ],
   "source": [
    "SequenceFeature scar1=SBOLAPI.appendSequenceFeature(doc, device, \"tactag\", Orientation.inline);\n",
    "System.out.println(String.format(\"Added the scar sequence between the RBS and the CDS components: %s\", scar1.getUri()));"
   ]
  },
  {
   "cell_type": "markdown",
   "id": "9911e66b-d667-418c-ad65-ac4a8c7e2593",
   "metadata": {},
   "source": [
    "Create the GFP component and add it as a subcomponent to continue assembling the i13504 device.\n"
   ]
  },
  {
   "cell_type": "code",
   "execution_count": 8,
   "id": "f66bd8f1-e19b-4b80-af9b-93c1abdaaea8",
   "metadata": {},
   "outputs": [
    {
     "name": "stdout",
     "output_type": "stream",
     "text": [
      "Added the GFP subcomponent https://synbiohub.org/public/igem/E0040\n"
     ]
    }
   ],
   "source": [
    "String gfp_na=\"atgcgtaaaggagaagaacttttcactggagttgtcccaattcttgttgaattagatggtgatgttaatgggcacaaattttctgtcagtggagagggtgaaggtgatgcaacatacggaaaacttacccttaaatttatttgcactactggaaaactacctgttccatggccaacacttgtcactactttcggttatggtgttcaatgctttgcgagatacccagatcatatgaaacagcatgactttttcaagagtgccatgcccgaaggttatgtacaggaaagaactatatttttcaaagatgacgggaactacaagacacgtgctgaagtcaagtttgaaggtgatacccttgttaatagaatcgagttaaaaggtattgattttaaagaagatggaaacattcttggacacaaattggaatacaactataactcacacaatgtatacatcatggcagacaaacaaaagaatggaatcaaagttaacttcaaaattagacacaacattgaagatggaagcgttcaactagcagaccattatcaacaaaatactccaattggcgatggccctgtccttttaccagacaaccattacctgtccacacaatctgccctttcgaaagatcccaacgaaaagagagaccacatggtccttcttgagtttgtaacagctgctgggattacacatggcatggatgaactatacaaataataa\";\n",
    "Component gfp=SBOLAPI.createDnaComponent(doc, \"E0040\", \"gfp\", \"gfp coding sequence\", Role.CDS, gfp_na);\n",
    "SubComponent gfpSubComponent=SBOLAPI.appendComponent(doc, device,gfp, Orientation.inline);\n",
    "System.out.println(String.format(\"Added the GFP subcomponent %s\", gfp.getUri()));"
   ]
  },
  {
   "cell_type": "markdown",
   "id": "12ba558c-dfea-4762-a3fc-0d41d4237303",
   "metadata": {},
   "source": [
    "Add the scar between the CDS and terminator components"
   ]
  },
  {
   "cell_type": "code",
   "execution_count": 9,
   "id": "d0f2120d-1a01-4525-8ee9-5ec0a59926e2",
   "metadata": {},
   "outputs": [
    {
     "name": "stdout",
     "output_type": "stream",
     "text": [
      "Added the scar sequence between the CDS and the terminator components: https://synbiohub.org/public/igem/i13504/SequenceFeature2\n"
     ]
    }
   ],
   "source": [
    "SequenceFeature scar2=SBOLAPI.appendSequenceFeature(doc, device, \"tactagag\", Orientation.inline);\n",
    "System.out.println(String.format(\"Added the scar sequence between the CDS and the terminator components: %s\", scar2.getUri()));"
   ]
  },
  {
   "cell_type": "markdown",
   "id": "f579ff06-03b7-4bae-a87c-708a67a0a15a",
   "metadata": {},
   "source": [
    "Create the terminator component"
   ]
  },
  {
   "cell_type": "code",
   "execution_count": 10,
   "id": "fe4a8083-6fcd-4476-b71e-c3d6ced95443",
   "metadata": {},
   "outputs": [],
   "source": [
    "String term_na=\"ccaggcatcaaataaaacgaaaggctcagtcgaaagactgggcctttcgttttatctgttgtttgtcggtgaacgctctc\";\n",
    "Component term=SBOLAPI.createDnaComponent(doc, \"B0015\", \"terminator\", \"B0015 double terminator\", Role.Terminator,term_na);"
   ]
  },
  {
   "cell_type": "markdown",
   "id": "d75a013b-c781-429a-8b61-36a4e8cb9583",
   "metadata": {},
   "source": [
    "Add the terminator as a subcomponent."
   ]
  },
  {
   "cell_type": "code",
   "execution_count": 11,
   "id": "34f5d9c4-b080-4d6c-8ff4-2861cc5f278b",
   "metadata": {},
   "outputs": [
    {
     "name": "stdout",
     "output_type": "stream",
     "text": [
      "Added the terminator subcomponent https://synbiohub.org/public/igem/B0015\n"
     ]
    }
   ],
   "source": [
    "SBOLAPI.appendComponent(doc, device,term, Orientation.inline);\n",
    "System.out.println(String.format(\"Added the terminator subcomponent %s\", term.getUri()));"
   ]
  },
  {
   "cell_type": "markdown",
   "id": "5341308c-2267-4eae-9d4c-ae01380d527f",
   "metadata": {},
   "source": [
    "Slide 32: GFP production from expression cassette\n",
    "--------------------------------------------------"
   ]
  },
  {
   "cell_type": "code",
   "execution_count": 13,
   "id": "2ec88ce5-a8a9-4f15-a2ea-18b05a33efc5",
   "metadata": {},
   "outputs": [],
   "source": [
    "Component i13504_system=SBOLAPI.createComponent(doc,\"i13504_system\", ComponentType.FunctionalEntity.getUrl(), \"i13504 system\", null, Role.FunctionalCompartment);\n",
    "Component GFP=SBOLAPI.createComponent(doc, \"GFP_protein\", ComponentType.Protein.getUrl(), \"GFP\", \"GFP\", null); \n",
    "SubComponent i13504SubComponent=SBOLAPI.addSubComponent(i13504_system, device);\n",
    "SubComponent gfpProteinSubComponent=SBOLAPI.addSubComponent(i13504_system, GFP);"
   ]
  },
  {
   "cell_type": "markdown",
   "id": "50f1a561-d7f4-4376-b67d-7b67124e2f64",
   "metadata": {},
   "source": [
    "List<ComponentReference> gfpRefs=SBOLAPI.createComponentReference(i13504_system, i13504, gfp);"
   ]
  },
  {
   "cell_type": "code",
   "execution_count": 14,
   "id": "887d8f69-e8c3-4191-9e74-869affa617bf",
   "metadata": {},
   "outputs": [
    {
     "data": {
      "text/plain": [
       "org.sbolstandard.core3.entity.Participation@b6c153e"
      ]
     },
     "execution_count": 14,
     "metadata": {},
     "output_type": "execute_result"
    }
   ],
   "source": [
    "ComponentReference gfpCDSReference=i13504_system.createComponentReference(gfpSubComponent, i13504SubComponent);\n",
    "\n",
    "Interaction interaction= i13504_system.createInteraction(Arrays.asList(InteractionType.GeneticProduction));\n",
    "interaction.createParticipation(Arrays.asList(ParticipationRole.Template), gfpCDSReference.getUri());\n",
    "interaction.createParticipation(Arrays.asList(ParticipationRole.Product), gfpProteinSubComponent.getUri());"
   ]
  },
  {
   "cell_type": "markdown",
   "id": "6ac1316b-939d-40a6-894e-aaa1e2b3d15f",
   "metadata": {},
   "source": [
    "Slide 34: Example: concatenating & reusing components\n",
    "--------------------------------------------------\n",
    " \n",
    "Left hand side of slide: interlab16device1"
   ]
  },
  {
   "cell_type": "code",
   "execution_count": 15,
   "id": "f3a15933-d8ab-43b7-b6a8-6e59119f5e57",
   "metadata": {},
   "outputs": [
    {
     "data": {
      "text/plain": [
       "org.sbolstandard.core3.entity.Constraint@613d701c"
      ]
     },
     "execution_count": 15,
     "metadata": {},
     "output_type": "execute_result"
    }
   ],
   "source": [
    "Component ilab16_dev1=doc.createComponent(\"interlab16device1\", Arrays.asList(ComponentType.DNA.getUrl())); \n",
    "Component j23101=doc.createComponent(\"j23101\", Arrays.asList(ComponentType.DNA.getUrl())); \n",
    "SubComponent sc_j23101=SBOLAPI.addSubComponent(ilab16_dev1, j23101);\t\n",
    "SubComponent sc_i13504_system=SBOLAPI.addSubComponent(ilab16_dev1, i13504_system);\t\n",
    "\n",
    "ComponentReference compRef_i13504_dev1=ilab16_dev1.createComponentReference(i13504SubComponent, sc_i13504_system);\n",
    "ilab16_dev1.createConstraint(RestrictionType.Topology.meets, sc_j23101.getUri(), compRef_i13504_dev1.getUri());    "
   ]
  },
  {
   "cell_type": "markdown",
   "id": "12694c78-4088-409d-9af4-efbf7b1310d9",
   "metadata": {},
   "source": [
    "Right hand side of slide: interlab16device2"
   ]
  },
  {
   "cell_type": "code",
   "execution_count": 16,
   "id": "eacb6c91-9e0d-4068-83eb-fdf0a3a50a5e",
   "metadata": {},
   "outputs": [
    {
     "data": {
      "text/plain": [
       "org.sbolstandard.core3.entity.Constraint@651e9b99"
      ]
     },
     "execution_count": 16,
     "metadata": {},
     "output_type": "execute_result"
    }
   ],
   "source": [
    "Component ilab16_dev2=doc.createComponent(\"interlab16device2\", Arrays.asList(ComponentType.DNA.getUrl())); \n",
    "Component j23106=doc.createComponent(\"j23106\", Arrays.asList(ComponentType.DNA.getUrl())); \n",
    "SubComponent sc_j23106=SBOLAPI.addSubComponent(ilab16_dev2, j23106);\t\n",
    "SubComponent sc_i13504_system_dev2=SBOLAPI.addSubComponent(ilab16_dev2, i13504_system);\t\n",
    "\n",
    "ComponentReference compRef_i13504_dev2=ilab16_dev2.createComponentReference(i13504SubComponent, sc_i13504_system_dev2);\n",
    "ilab16_dev2.createConstraint(RestrictionType.Topology.meets, sc_j23106.getUri(), compRef_i13504_dev2.getUri());"
   ]
  },
  {
   "cell_type": "code",
   "execution_count": 17,
   "id": "4d8f1d91-da5a-4e0e-a22d-651aa3693b24",
   "metadata": {},
   "outputs": [
    {
     "name": "stdout",
     "output_type": "stream",
     "text": [
      "\n",
      "SBOL:\n",
      "@base          <https://synbiohub.org/public/igem/> .\n",
      "@prefix :      <https://synbiohub.org/public/igem/> .\n",
      "@prefix CHEBI: <https://identifiers.org/CHEBI:> .\n",
      "@prefix EDAM:  <https://identifiers.org/edam:> .\n",
      "@prefix GO:    <https://identifiers.org/GO:> .\n",
      "@prefix SBO:   <https://identifiers.org/SBO:> .\n",
      "@prefix SO:    <https://identifiers.org/SO:> .\n",
      "@prefix om:    <http://www.ontology-of-units-of-measure.org/resource/om-2/> .\n",
      "@prefix prov:  <http://www.w3.org/ns/prov#> .\n",
      "@prefix sbol:  <http://sbols.org/v3#> .\n",
      "\n",
      "<i13504_system/Interaction1>\n",
      "        a                      sbol:Interaction ;\n",
      "        sbol:displayId         \"Interaction1\" ;\n",
      "        sbol:hasParticipation  <i13504_system/Interaction1/Participation2> , <i13504_system/Interaction1/Participation1> ;\n",
      "        sbol:type              SBO:0000589 .\n",
      "\n",
      "<i13504/SubComponent1/Range1>\n",
      "        a                 sbol:Range ;\n",
      "        sbol:displayId    \"Range1\" ;\n",
      "        sbol:end          \"11\" ;\n",
      "        sbol:hasSequence  :i13504_Sequence1 ;\n",
      "        sbol:orientation  SO:0001030 ;\n",
      "        sbol:start        \"1\" .\n",
      "\n",
      ":interlab16device1  a       sbol:Component ;\n",
      "        sbol:displayId      \"interlab16device1\" ;\n",
      "        sbol:hasConstraint  <interlab16device1/Constraint1> ;\n",
      "        sbol:hasFeature     <interlab16device1/ComponentReference1> , <interlab16device1/SubComponent2> , <interlab16device1/SubComponent1> ;\n",
      "        sbol:hasNamespace   <https://synbiohub.org/public/igem> ;\n",
      "        sbol:type           SBO:0000251 .\n",
      "\n",
      ":B0034_Sequence1  a        sbol:Sequence ;\n",
      "        sbol:description   \"rbs sequence\" ;\n",
      "        sbol:displayId     \"B0034_Sequence1\" ;\n",
      "        sbol:elements      \"aaagaggagaaa\" ;\n",
      "        sbol:encoding      EDAM:format_1207 ;\n",
      "        sbol:hasNamespace  <https://synbiohub.org/public/igem> ;\n",
      "        sbol:name          \"Sequence1\" .\n",
      "\n",
      "<i13504_system/Interaction1/Participation1>\n",
      "        a                 sbol:Participation ;\n",
      "        sbol:displayId    \"Participation1\" ;\n",
      "        sbol:participant  <i13504_system/ComponentReference1> ;\n",
      "        sbol:role         SBO:0000645 .\n",
      "\n",
      "<i13504/SequenceFeature1>\n",
      "        a                 sbol:SequenceFeature ;\n",
      "        sbol:displayId    \"SequenceFeature1\" ;\n",
      "        sbol:hasLocation  <i13504/SequenceFeature1/Range1> ;\n",
      "        sbol:orientation  SO:0001030 .\n",
      "\n",
      "<i13504/SequenceFeature1/Range1>\n",
      "        a                 sbol:Range ;\n",
      "        sbol:displayId    \"Range1\" ;\n",
      "        sbol:end          \"18\" ;\n",
      "        sbol:hasSequence  :i13504_Sequence1 ;\n",
      "        sbol:start        \"13\" .\n",
      "\n",
      ":E0040  a                  sbol:Component ;\n",
      "        sbol:description   \"gfp coding sequence\" ;\n",
      "        sbol:displayId     \"E0040\" ;\n",
      "        sbol:hasNamespace  <https://synbiohub.org/public/igem> ;\n",
      "        sbol:hasSequence   :E0040_Sequence1 ;\n",
      "        sbol:name          \"gfp\" ;\n",
      "        sbol:role          SO:0000316 ;\n",
      "        sbol:type          SBO:0000251 .\n",
      "\n",
      "<interlab16device2/SubComponent2>\n",
      "        a                sbol:SubComponent ;\n",
      "        sbol:displayId   \"SubComponent2\" ;\n",
      "        sbol:instanceOf  :i13504_system .\n",
      "\n",
      "<interlab16device2/ComponentReference1>\n",
      "        a               sbol:ComponentReference ;\n",
      "        sbol:displayId  \"ComponentReference1\" ;\n",
      "        sbol:inChildOf  <interlab16device2/SubComponent2> ;\n",
      "        sbol:refersTo   <i13504_system/SubComponent1> .\n",
      "\n",
      ":B0015_Sequence1  a        sbol:Sequence ;\n",
      "        sbol:description   \"terminator sequence\" ;\n",
      "        sbol:displayId     \"B0015_Sequence1\" ;\n",
      "        sbol:elements      \"ccaggcatcaaataaaacgaaaggctcagtcgaaagactgggcctttcgttttatctgttgtttgtcggtgaacgctctc\" ;\n",
      "        sbol:encoding      EDAM:format_1207 ;\n",
      "        sbol:hasNamespace  <https://synbiohub.org/public/igem> ;\n",
      "        sbol:name          \"Sequence1\" .\n",
      "\n",
      "<interlab16device2/SubComponent1>\n",
      "        a                sbol:SubComponent ;\n",
      "        sbol:displayId   \"SubComponent1\" ;\n",
      "        sbol:instanceOf  :j23106 .\n",
      "\n",
      "<interlab16device2/Constraint1>\n",
      "        a                 sbol:Constraint ;\n",
      "        sbol:displayId    \"Constraint1\" ;\n",
      "        sbol:object       <interlab16device2/ComponentReference1> ;\n",
      "        sbol:restriction  sbol:meets ;\n",
      "        sbol:subject      <interlab16device2/SubComponent1> .\n",
      "\n",
      ":GFP_protein  a            sbol:Component ;\n",
      "        sbol:description   \"GFP\" ;\n",
      "        sbol:displayId     \"GFP_protein\" ;\n",
      "        sbol:hasNamespace  <https://synbiohub.org/public/igem> ;\n",
      "        sbol:name          \"GFP\" ;\n",
      "        sbol:type          SBO:0000252 .\n",
      "\n",
      ":i13504  a                 sbol:Component ;\n",
      "        sbol:description   \"Screening plasmid intermediate\" ;\n",
      "        sbol:displayId     \"i13504\" ;\n",
      "        sbol:hasFeature    <i13504/SubComponent3> , <i13504/SequenceFeature2> , <i13504/SequenceFeature1> , <i13504/SubComponent2> , <i13504/SubComponent1> ;\n",
      "        sbol:hasNamespace  <https://synbiohub.org/public/igem> ;\n",
      "        sbol:hasSequence   :i13504_Sequence1 ;\n",
      "        sbol:name          \"i13504\" ;\n",
      "        sbol:role          SBO:0000251 ;\n",
      "        sbol:type          SBO:0000251 .\n",
      "\n",
      ":j23101  a                 sbol:Component ;\n",
      "        sbol:displayId     \"j23101\" ;\n",
      "        sbol:hasNamespace  <https://synbiohub.org/public/igem> ;\n",
      "        sbol:type          SBO:0000251 .\n",
      "\n",
      ":j23106  a                 sbol:Component ;\n",
      "        sbol:displayId     \"j23106\" ;\n",
      "        sbol:hasNamespace  <https://synbiohub.org/public/igem> ;\n",
      "        sbol:type          SBO:0000251 .\n",
      "\n",
      "<i13504_system/ComponentReference1>\n",
      "        a               sbol:ComponentReference ;\n",
      "        sbol:displayId  \"ComponentReference1\" ;\n",
      "        sbol:inChildOf  <i13504_system/SubComponent1> ;\n",
      "        sbol:refersTo   <i13504/SubComponent2> .\n",
      "\n",
      "<interlab16device1/Constraint1>\n",
      "        a                 sbol:Constraint ;\n",
      "        sbol:displayId    \"Constraint1\" ;\n",
      "        sbol:object       <interlab16device1/ComponentReference1> ;\n",
      "        sbol:restriction  sbol:meets ;\n",
      "        sbol:subject      <interlab16device1/SubComponent1> .\n",
      "\n",
      "<interlab16device1/SubComponent2>\n",
      "        a                sbol:SubComponent ;\n",
      "        sbol:displayId   \"SubComponent2\" ;\n",
      "        sbol:instanceOf  :i13504_system .\n",
      "\n",
      ":i13504_Sequence1  a       sbol:Sequence ;\n",
      "        sbol:description   \"i13504 sequence\" ;\n",
      "        sbol:displayId     \"i13504_Sequence1\" ;\n",
      "        sbol:elements      \"aaagaggagaaatactagatgcgtaaaggagaagaacttttcactggagttgtcccaattcttgttgaattagatggtgatgttaatgggcacaaattttctgtcagtggagagggtgaaggtgatgcaacatacggaaaacttacccttaaatttatttgcactactggaaaactacctgttccatggccaacacttgtcactactttcggttatggtgttcaatgctttgcgagatacccagatcatatgaaacagcatgactttttcaagagtgccatgcccgaaggttatgtacaggaaagaactatatttttcaaagatgacgggaactacaagacacgtgctgaagtcaagtttgaaggtgatacccttgttaatagaatcgagttaaaaggtattgattttaaagaagatggaaacattcttggacacaaattggaatacaactataactcacacaatgtatacatcatggcagacaaacaaaagaatggaatcaaagttaacttcaaaattagacacaacattgaagatggaagcgttcaactagcagaccattatcaacaaaatactccaattggcgatggccctgtccttttaccagacaaccattacctgtccacacaatctgccctttcgaaagatcccaacgaaaagagagaccacatggtccttcttgagtttgtaacagctgctgggattacacatggcatggatgaactatacaaataataatactagagccaggcatcaaataaaacgaaaggctcagtcgaaagactgggcctttcgttttatctgttgtttgtcggtgaacgctctc\" ;\n",
      "        sbol:encoding      EDAM:format_1207 ;\n",
      "        sbol:hasNamespace  <https://synbiohub.org/public/igem> ;\n",
      "        sbol:name          \"Sequence1\" .\n",
      "\n",
      "<i13504/SubComponent3>\n",
      "        a                 sbol:SubComponent ;\n",
      "        sbol:displayId    \"SubComponent3\" ;\n",
      "        sbol:hasLocation  <i13504/SubComponent3/Range1> ;\n",
      "        sbol:instanceOf   :B0015 ;\n",
      "        sbol:orientation  SO:0001030 .\n",
      "\n",
      ":B0034  a                  sbol:Component ;\n",
      "        sbol:description   \"RBS (Elowitz 1999)\" ;\n",
      "        sbol:displayId     \"B0034\" ;\n",
      "        sbol:hasNamespace  <https://synbiohub.org/public/igem> ;\n",
      "        sbol:hasSequence   :B0034_Sequence1 ;\n",
      "        sbol:name          \"rbs\" ;\n",
      "        sbol:role          SO:0000139 ;\n",
      "        sbol:type          SBO:0000251 .\n",
      "\n",
      ":i13504_system  a            sbol:Component ;\n",
      "        sbol:displayId       \"i13504_system\" ;\n",
      "        sbol:hasFeature      <i13504_system/SubComponent2> , <i13504_system/ComponentReference1> , <i13504_system/SubComponent1> ;\n",
      "        sbol:hasInteraction  <i13504_system/Interaction1> ;\n",
      "        sbol:hasNamespace    <https://synbiohub.org/public/igem> ;\n",
      "        sbol:name            \"i13504 system\" ;\n",
      "        sbol:role            SBO:0000289 ;\n",
      "        sbol:type            SBO:0000241 .\n",
      "\n",
      "<i13504/SubComponent3/Range1>\n",
      "        a                 sbol:Range ;\n",
      "        sbol:displayId    \"Range1\" ;\n",
      "        sbol:end          \"826\" ;\n",
      "        sbol:hasSequence  :i13504_Sequence1 ;\n",
      "        sbol:orientation  SO:0001030 ;\n",
      "        sbol:start        \"747\" .\n",
      "\n",
      ":B0015  a                  sbol:Component ;\n",
      "        sbol:description   \"B0015 double terminator\" ;\n",
      "        sbol:displayId     \"B0015\" ;\n",
      "        sbol:hasNamespace  <https://synbiohub.org/public/igem> ;\n",
      "        sbol:hasSequence   :B0015_Sequence1 ;\n",
      "        sbol:name          \"terminator\" ;\n",
      "        sbol:role          SO:0000141 ;\n",
      "        sbol:type          SBO:0000251 .\n",
      "\n",
      "<i13504_system/SubComponent2>\n",
      "        a                sbol:SubComponent ;\n",
      "        sbol:displayId   \"SubComponent2\" ;\n",
      "        sbol:instanceOf  :GFP_protein .\n",
      "\n",
      "<i13504/SubComponent2>\n",
      "        a                 sbol:SubComponent ;\n",
      "        sbol:displayId    \"SubComponent2\" ;\n",
      "        sbol:hasLocation  <i13504/SubComponent2/Range1> ;\n",
      "        sbol:instanceOf   :E0040 ;\n",
      "        sbol:orientation  SO:0001030 .\n",
      "\n",
      ":E0040_Sequence1  a        sbol:Sequence ;\n",
      "        sbol:description   \"gfp sequence\" ;\n",
      "        sbol:displayId     \"E0040_Sequence1\" ;\n",
      "        sbol:elements      \"atgcgtaaaggagaagaacttttcactggagttgtcccaattcttgttgaattagatggtgatgttaatgggcacaaattttctgtcagtggagagggtgaaggtgatgcaacatacggaaaacttacccttaaatttatttgcactactggaaaactacctgttccatggccaacacttgtcactactttcggttatggtgttcaatgctttgcgagatacccagatcatatgaaacagcatgactttttcaagagtgccatgcccgaaggttatgtacaggaaagaactatatttttcaaagatgacgggaactacaagacacgtgctgaagtcaagtttgaaggtgatacccttgttaatagaatcgagttaaaaggtattgattttaaagaagatggaaacattcttggacacaaattggaatacaactataactcacacaatgtatacatcatggcagacaaacaaaagaatggaatcaaagttaacttcaaaattagacacaacattgaagatggaagcgttcaactagcagaccattatcaacaaaatactccaattggcgatggccctgtccttttaccagacaaccattacctgtccacacaatctgccctttcgaaagatcccaacgaaaagagagaccacatggtccttcttgagtttgtaacagctgctgggattacacatggcatggatgaactatacaaataataa\" ;\n",
      "        sbol:encoding      EDAM:format_1207 ;\n",
      "        sbol:hasNamespace  <https://synbiohub.org/public/igem> ;\n",
      "        sbol:name          \"Sequence1\" .\n",
      "\n",
      "<interlab16device1/SubComponent1>\n",
      "        a                sbol:SubComponent ;\n",
      "        sbol:displayId   \"SubComponent1\" ;\n",
      "        sbol:instanceOf  :j23101 .\n",
      "\n",
      "<i13504/SubComponent2/Range1>\n",
      "        a                 sbol:Range ;\n",
      "        sbol:displayId    \"Range1\" ;\n",
      "        sbol:end          \"738\" ;\n",
      "        sbol:hasSequence  :i13504_Sequence1 ;\n",
      "        sbol:orientation  SO:0001030 ;\n",
      "        sbol:start        \"19\" .\n",
      "\n",
      "<interlab16device1/ComponentReference1>\n",
      "        a               sbol:ComponentReference ;\n",
      "        sbol:displayId  \"ComponentReference1\" ;\n",
      "        sbol:inChildOf  <interlab16device1/SubComponent2> ;\n",
      "        sbol:refersTo   <i13504_system/SubComponent1> .\n",
      "\n",
      "<i13504_system/SubComponent1>\n",
      "        a                sbol:SubComponent ;\n",
      "        sbol:displayId   \"SubComponent1\" ;\n",
      "        sbol:instanceOf  :i13504 .\n",
      "\n",
      ":interlab16device2  a       sbol:Component ;\n",
      "        sbol:displayId      \"interlab16device2\" ;\n",
      "        sbol:hasConstraint  <interlab16device2/Constraint1> ;\n",
      "        sbol:hasFeature     <interlab16device2/ComponentReference1> , <interlab16device2/SubComponent2> , <interlab16device2/SubComponent1> ;\n",
      "        sbol:hasNamespace   <https://synbiohub.org/public/igem> ;\n",
      "        sbol:type           SBO:0000251 .\n",
      "\n",
      "<i13504/SequenceFeature2/Range1>\n",
      "        a                 sbol:Range ;\n",
      "        sbol:displayId    \"Range1\" ;\n",
      "        sbol:end          \"746\" ;\n",
      "        sbol:hasSequence  :i13504_Sequence1 ;\n",
      "        sbol:start        \"739\" .\n",
      "\n",
      "<i13504/SubComponent1>\n",
      "        a                 sbol:SubComponent ;\n",
      "        sbol:displayId    \"SubComponent1\" ;\n",
      "        sbol:hasLocation  <i13504/SubComponent1/Range1> ;\n",
      "        sbol:instanceOf   :B0034 ;\n",
      "        sbol:orientation  SO:0001030 .\n",
      "\n",
      "<i13504_system/Interaction1/Participation2>\n",
      "        a                 sbol:Participation ;\n",
      "        sbol:displayId    \"Participation2\" ;\n",
      "        sbol:participant  <i13504_system/SubComponent2> ;\n",
      "        sbol:role         SBO:0000011 .\n",
      "\n",
      "<i13504/SequenceFeature2>\n",
      "        a                 sbol:SequenceFeature ;\n",
      "        sbol:displayId    \"SequenceFeature2\" ;\n",
      "        sbol:hasLocation  <i13504/SequenceFeature2/Range1> ;\n",
      "        sbol:orientation  SO:0001030 .\n",
      "\n"
     ]
    }
   ],
   "source": [
    "String output=SBOLIO.write(doc, SBOLFormat.TURTLE);\n",
    "System.out.println(\"\");\n",
    "System.out.println(\"SBOL:\");\n",
    "System.out.println(output);   "
   ]
  },
  {
   "cell_type": "code",
   "execution_count": null,
   "id": "4b9c89fc-8588-4bb7-af69-d25470c87293",
   "metadata": {},
   "outputs": [],
   "source": []
  }
 ],
 "metadata": {
  "kernelspec": {
   "display_name": "Java",
   "language": "java",
   "name": "java"
  },
  "language_info": {
   "codemirror_mode": "java",
   "file_extension": ".jshell",
   "mimetype": "text/x-java-source",
   "name": "Java",
   "pygments_lexer": "java",
   "version": "17.0.3+7-Ubuntu-0ubuntu0.20.04.1"
  }
 },
 "nbformat": 4,
 "nbformat_minor": 5
}
